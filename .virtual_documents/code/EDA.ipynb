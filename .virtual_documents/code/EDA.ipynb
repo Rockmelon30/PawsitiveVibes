





import numpy as np
import pandas as pd
import matplotlib.pyplot as plt
import seaborn as sns


dog_labels = pd.read_csv(r"C:\Users\rockm\Desktop\GA\Projects\Capstone-dog\data\labels.csv")


dog_labels.head()


dog_labels.isna().sum()


# balanced classes
dog_labels['label'].value_counts()


dog_labels.shape


data_dir = r"C:\Users\rockm\Desktop\GA\Projects\Capstone-dog\images\dog_emotion\train"


image_exts = ['jpeg', 'jpg', 'bmp', 'png']


def is_image_corrupted(image_path):
    try:
        image_raw = tf.io.read_file(image_path)
        image = tf.io.decode_image(image_raw)
        return False
    except (tf.errors.InvalidArgumentError, tf.errors.NotFoundError) as e:
        print(f"Corrupted image detected: {image_path}")
        return True


image_directory = r"C:\Users\rockm\Desktop\GA\Projects\Capstone-dog\images\dog_emotion\train\angry"

for filename in os.listdir(image_directory):
    if filename.endswith(('.jpg', '.jpeg', '.png', '.bmp', '.gif')):
        image_path = os.path.join(image_directory, filename)
        is_image_corrupted(image_path)


image_directory = r"C:\Users\rockm\Desktop\GA\Projects\Capstone-dog\images\dog_emotion\train\happy"

for filename in os.listdir(image_directory):
    if filename.endswith(('.jpg', '.jpeg', '.png', '.bmp', '.gif')):
        image_path = os.path.join(image_directory, filename)
        is_image_corrupted(image_path)


image_directory = r"C:\Users\rockm\Desktop\GA\Projects\Capstone-dog\images\dog_emotion\train\relaxed"

for filename in os.listdir(image_directory):
    if filename.endswith(('.jpg', '.jpeg', '.png', '.bmp', '.gif')):
        image_path = os.path.join(image_directory, filename)
        is_image_corrupted(image_path)


image_directory = r"C:\Users\rockm\Desktop\GA\Projects\Capstone-dog\images\dog_emotion\train\sad"

for filename in os.listdir(image_directory):
    if filename.endswith(('.jpg', '.jpeg', '.png', '.bmp', '.gif')):
        image_path = os.path.join(image_directory, filename)
        is_image_corrupted(image_path)


corrupted_images_to_remove = [
    "DTpJgFAOWeCDGgcXU1PbXjvfdCvSio578.jpg",
    "hcerZKRmlGS9kqqEu0isqfDus7aC4O579.jpg",
    "LUJxTLz9XDGv5gk59SsID20HCxtrhD574.jpeg"
]


corrupted_images = [
    r"C:\Users\rockm\Desktop\GA\Projects\Capstone-dog\images\dog_emotion\train\angry\DTpJgFAOWeCDGgcXU1PbXjvfdCvSio578.jpg",
    r"C:\Users\rockm\Desktop\GA\Projects\Capstone-dog\images\dog_emotion\train\angry\hcerZKRmlGS9kqqEu0isqfDus7aC4O579.jpg",
    r"C:\Users\rockm\Desktop\GA\Projects\Capstone-dog\images\dog_emotion\train\angry\LUJxTLz9XDGv5gk59SsID20HCxtrhD574.jpeg"
]
image_directory = r"C:\Users\rockm\Desktop\GA\Projects\Capstone-dog\images\dog_emotion\train\angry"
for image_path in corrupted_images:
    try:
        os.remove(image_path)
        print(f"Removed corrupted image: {image_path}")
    except OSError as e:
        print(f"Error removing {image_path}: {e}")


dog_labels_cleaned = dog_labels[~dog_labels['filename'].isin(corrupted_images_to_remove)]


dog_labels_cleaned.shape


dog_labels_cleaned.to_csv(r"C:\Users\rockm\Desktop\GA\Projects\Capstone-dog\data\labels_cleaned.csv", index=False)



