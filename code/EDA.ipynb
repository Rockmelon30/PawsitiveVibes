{
 "cells": [
  {
   "cell_type": "markdown",
   "id": "6c61ce97-9ecf-4228-ac68-71a4f0c2a8c6",
   "metadata": {},
   "source": [
    "# 01 EDA"
   ]
  },
  {
   "cell_type": "markdown",
   "id": "1fceac2f-0b4a-4c03-9fad-4bc35e99e292",
   "metadata": {},
   "source": [
    "### Imports"
   ]
  },
  {
   "cell_type": "code",
   "execution_count": 2,
   "id": "e906c721-04d4-463e-9bef-d8edfd2c5004",
   "metadata": {},
   "outputs": [],
   "source": [
    "import numpy as np\n",
    "import pandas as pd\n",
    "import matplotlib.pyplot as plt\n",
    "import seaborn as sns"
   ]
  },
  {
   "cell_type": "code",
   "execution_count": 3,
   "id": "1d962308-cef6-423c-89db-774bdd764fa8",
   "metadata": {},
   "outputs": [],
   "source": [
    "dog_labels = pd.read_csv(r\"C:\\Users\\rockm\\Desktop\\GA\\Projects\\Capstone-dog\\data\\labels.csv\")"
   ]
  },
  {
   "cell_type": "code",
   "execution_count": 4,
   "id": "f14b204c-7bfa-4a20-85c7-c7c069937ce4",
   "metadata": {},
   "outputs": [
    {
     "data": {
      "text/html": [
       "<div>\n",
       "<style scoped>\n",
       "    .dataframe tbody tr th:only-of-type {\n",
       "        vertical-align: middle;\n",
       "    }\n",
       "\n",
       "    .dataframe tbody tr th {\n",
       "        vertical-align: top;\n",
       "    }\n",
       "\n",
       "    .dataframe thead th {\n",
       "        text-align: right;\n",
       "    }\n",
       "</style>\n",
       "<table border=\"1\" class=\"dataframe\">\n",
       "  <thead>\n",
       "    <tr style=\"text-align: right;\">\n",
       "      <th></th>\n",
       "      <th>Unnamed: 0</th>\n",
       "      <th>filename</th>\n",
       "      <th>label</th>\n",
       "    </tr>\n",
       "  </thead>\n",
       "  <tbody>\n",
       "    <tr>\n",
       "      <th>0</th>\n",
       "      <td>0</td>\n",
       "      <td>yubL63eiiPmoRru8Z2K2yRo0NnGDCL683.jpg</td>\n",
       "      <td>sad</td>\n",
       "    </tr>\n",
       "    <tr>\n",
       "      <th>1</th>\n",
       "      <td>1</td>\n",
       "      <td>c1tVljKiLM9q2zTBuQGWpxmzBuSeBR437.jpg</td>\n",
       "      <td>sad</td>\n",
       "    </tr>\n",
       "    <tr>\n",
       "      <th>2</th>\n",
       "      <td>2</td>\n",
       "      <td>RbzNOvY5GIAl3PSjIRTKpEkQs1NByq575.jpg</td>\n",
       "      <td>angry</td>\n",
       "    </tr>\n",
       "    <tr>\n",
       "      <th>3</th>\n",
       "      <td>3</td>\n",
       "      <td>gKujaBuWYezz0yWK9ydTFVi6LbQtXe397.jpg</td>\n",
       "      <td>angry</td>\n",
       "    </tr>\n",
       "    <tr>\n",
       "      <th>4</th>\n",
       "      <td>4</td>\n",
       "      <td>U0hJ2ryOu1IOuYpc01O7RngPYa8Xvz795.jpg</td>\n",
       "      <td>relaxed</td>\n",
       "    </tr>\n",
       "  </tbody>\n",
       "</table>\n",
       "</div>"
      ],
      "text/plain": [
       "   Unnamed: 0                               filename    label\n",
       "0           0  yubL63eiiPmoRru8Z2K2yRo0NnGDCL683.jpg      sad\n",
       "1           1  c1tVljKiLM9q2zTBuQGWpxmzBuSeBR437.jpg      sad\n",
       "2           2  RbzNOvY5GIAl3PSjIRTKpEkQs1NByq575.jpg    angry\n",
       "3           3  gKujaBuWYezz0yWK9ydTFVi6LbQtXe397.jpg    angry\n",
       "4           4  U0hJ2ryOu1IOuYpc01O7RngPYa8Xvz795.jpg  relaxed"
      ]
     },
     "execution_count": 4,
     "metadata": {},
     "output_type": "execute_result"
    }
   ],
   "source": [
    "dog_labels.head()"
   ]
  },
  {
   "cell_type": "code",
   "execution_count": 5,
   "id": "9817dd18-6a63-4950-86bc-017c5c62ea3c",
   "metadata": {},
   "outputs": [
    {
     "data": {
      "text/plain": [
       "Unnamed: 0    0\n",
       "filename      0\n",
       "label         0\n",
       "dtype: int64"
      ]
     },
     "execution_count": 5,
     "metadata": {},
     "output_type": "execute_result"
    }
   ],
   "source": [
    "dog_labels.isna().sum()"
   ]
  },
  {
   "cell_type": "code",
   "execution_count": 6,
   "id": "34a99c07-9c73-493c-b09d-73781dd6eff5",
   "metadata": {},
   "outputs": [
    {
     "data": {
      "text/plain": [
       "label\n",
       "sad        1000\n",
       "angry      1000\n",
       "relaxed    1000\n",
       "happy      1000\n",
       "Name: count, dtype: int64"
      ]
     },
     "execution_count": 6,
     "metadata": {},
     "output_type": "execute_result"
    }
   ],
   "source": [
    "# balanced classes\n",
    "dog_labels['label'].value_counts()"
   ]
  },
  {
   "cell_type": "code",
   "execution_count": 7,
   "id": "1b4d8c22-e14e-4877-a89d-3caea105bedb",
   "metadata": {},
   "outputs": [
    {
     "data": {
      "text/plain": [
       "(4000, 3)"
      ]
     },
     "execution_count": 7,
     "metadata": {},
     "output_type": "execute_result"
    }
   ],
   "source": [
    "dog_labels.shape"
   ]
  },
  {
   "cell_type": "code",
   "execution_count": 8,
   "id": "43e7ccaf-2adb-4151-9f8f-affe9e50b5fe",
   "metadata": {},
   "outputs": [],
   "source": [
    "data_dir = r\"C:\\Users\\rockm\\Desktop\\GA\\Projects\\Capstone-dog\\images\\dog_emotion\\train\""
   ]
  },
  {
   "cell_type": "code",
   "execution_count": 9,
   "id": "1e78f7b7-4654-4230-bf0f-0540c456f4dd",
   "metadata": {},
   "outputs": [],
   "source": [
    "image_exts = ['jpeg', 'jpg', 'bmp', 'png']"
   ]
  },
  {
   "cell_type": "code",
   "execution_count": null,
   "id": "41d1904b-e1b5-46ca-895b-a509b6915e5d",
   "metadata": {},
   "outputs": [],
   "source": [
    "def is_image_corrupted(image_path):\n",
    "    try:\n",
    "        image_raw = tf.io.read_file(image_path)\n",
    "        image = tf.io.decode_image(image_raw)\n",
    "        return False\n",
    "    except (tf.errors.InvalidArgumentError, tf.errors.NotFoundError) as e:\n",
    "        print(f\"Corrupted image detected: {image_path}\")\n",
    "        return True"
   ]
  },
  {
   "cell_type": "code",
   "execution_count": null,
   "id": "8c8053a7-e637-49de-8c22-fca1b651ae12",
   "metadata": {},
   "outputs": [],
   "source": [
    "image_directory = r\"C:\\Users\\rockm\\Desktop\\GA\\Projects\\Capstone-dog\\images\\dog_emotion\\train\\angry\"\n",
    "\n",
    "for filename in os.listdir(image_directory):\n",
    "    if filename.endswith(('.jpg', '.jpeg', '.png', '.bmp', '.gif')):\n",
    "        image_path = os.path.join(image_directory, filename)\n",
    "        is_image_corrupted(image_path)"
   ]
  },
  {
   "cell_type": "code",
   "execution_count": null,
   "id": "3306353f-e59d-47bd-ad21-4be36a0e0a49",
   "metadata": {},
   "outputs": [],
   "source": [
    "image_directory = r\"C:\\Users\\rockm\\Desktop\\GA\\Projects\\Capstone-dog\\images\\dog_emotion\\train\\happy\"\n",
    "\n",
    "for filename in os.listdir(image_directory):\n",
    "    if filename.endswith(('.jpg', '.jpeg', '.png', '.bmp', '.gif')):\n",
    "        image_path = os.path.join(image_directory, filename)\n",
    "        is_image_corrupted(image_path)"
   ]
  },
  {
   "cell_type": "code",
   "execution_count": null,
   "id": "ab812788-637c-4224-a2d6-0f14a26054c3",
   "metadata": {},
   "outputs": [],
   "source": [
    "image_directory = r\"C:\\Users\\rockm\\Desktop\\GA\\Projects\\Capstone-dog\\images\\dog_emotion\\train\\relaxed\"\n",
    "\n",
    "for filename in os.listdir(image_directory):\n",
    "    if filename.endswith(('.jpg', '.jpeg', '.png', '.bmp', '.gif')):\n",
    "        image_path = os.path.join(image_directory, filename)\n",
    "        is_image_corrupted(image_path)"
   ]
  },
  {
   "cell_type": "code",
   "execution_count": null,
   "id": "aa8786cb-1fad-4d0b-be7b-90594c585e25",
   "metadata": {},
   "outputs": [],
   "source": [
    "image_directory = r\"C:\\Users\\rockm\\Desktop\\GA\\Projects\\Capstone-dog\\images\\dog_emotion\\train\\sad\"\n",
    "\n",
    "for filename in os.listdir(image_directory):\n",
    "    if filename.endswith(('.jpg', '.jpeg', '.png', '.bmp', '.gif')):\n",
    "        image_path = os.path.join(image_directory, filename)\n",
    "        is_image_corrupted(image_path)"
   ]
  },
  {
   "cell_type": "code",
   "execution_count": 10,
   "id": "205ffd6f-06f7-4258-8ee4-71731bec3ec8",
   "metadata": {},
   "outputs": [],
   "source": [
    "corrupted_images_to_remove = [\n",
    "    \"DTpJgFAOWeCDGgcXU1PbXjvfdCvSio578.jpg\",\n",
    "    \"hcerZKRmlGS9kqqEu0isqfDus7aC4O579.jpg\",\n",
    "    \"LUJxTLz9XDGv5gk59SsID20HCxtrhD574.jpeg\"\n",
    "]"
   ]
  },
  {
   "cell_type": "code",
   "execution_count": null,
   "id": "52d24280-764b-4c77-9a64-039a0eb9888c",
   "metadata": {},
   "outputs": [],
   "source": [
    "corrupted_images = [\n",
    "    r\"C:\\Users\\rockm\\Desktop\\GA\\Projects\\Capstone-dog\\images\\dog_emotion\\train\\angry\\DTpJgFAOWeCDGgcXU1PbXjvfdCvSio578.jpg\",\n",
    "    r\"C:\\Users\\rockm\\Desktop\\GA\\Projects\\Capstone-dog\\images\\dog_emotion\\train\\angry\\hcerZKRmlGS9kqqEu0isqfDus7aC4O579.jpg\",\n",
    "    r\"C:\\Users\\rockm\\Desktop\\GA\\Projects\\Capstone-dog\\images\\dog_emotion\\train\\angry\\LUJxTLz9XDGv5gk59SsID20HCxtrhD574.jpeg\"\n",
    "]\n",
    "image_directory = r\"C:\\Users\\rockm\\Desktop\\GA\\Projects\\Capstone-dog\\images\\dog_emotion\\train\\angry\"\n",
    "for image_path in corrupted_images:\n",
    "    try:\n",
    "        os.remove(image_path)\n",
    "        print(f\"Removed corrupted image: {image_path}\")\n",
    "    except OSError as e:\n",
    "        print(f\"Error removing {image_path}: {e}\")"
   ]
  },
  {
   "cell_type": "code",
   "execution_count": 11,
   "id": "2105fa07-1c9f-46ec-a1e8-9e34ad170837",
   "metadata": {},
   "outputs": [],
   "source": [
    "dog_labels_cleaned = dog_labels[~dog_labels['filename'].isin(corrupted_images_to_remove)]"
   ]
  },
  {
   "cell_type": "code",
   "execution_count": 12,
   "id": "d7533b40-5b83-45c3-b9bf-6868927e8872",
   "metadata": {},
   "outputs": [
    {
     "data": {
      "text/plain": [
       "(3997, 3)"
      ]
     },
     "execution_count": 12,
     "metadata": {},
     "output_type": "execute_result"
    }
   ],
   "source": [
    "dog_labels_cleaned.shape"
   ]
  },
  {
   "cell_type": "code",
   "execution_count": 16,
   "id": "d927c012-7de2-4544-a87c-c3dabde7019e",
   "metadata": {},
   "outputs": [],
   "source": [
    "dog_labels_cleaned.to_csv(r\"C:\\Users\\rockm\\Desktop\\GA\\Projects\\Capstone-dog\\data\\labels_cleaned.csv\", index=False)"
   ]
  },
  {
   "cell_type": "code",
   "execution_count": null,
   "id": "054e7ad1-90c6-4c56-afdb-a2be1fe59149",
   "metadata": {},
   "outputs": [],
   "source": []
  }
 ],
 "metadata": {
  "kernelspec": {
   "display_name": "Python 3 (ipykernel)",
   "language": "python",
   "name": "python3"
  },
  "language_info": {
   "codemirror_mode": {
    "name": "ipython",
    "version": 3
   },
   "file_extension": ".py",
   "mimetype": "text/x-python",
   "name": "python",
   "nbconvert_exporter": "python",
   "pygments_lexer": "ipython3",
   "version": "3.11.7"
  }
 },
 "nbformat": 4,
 "nbformat_minor": 5
}
